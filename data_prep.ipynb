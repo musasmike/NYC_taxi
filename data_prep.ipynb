{
 "cells": [
  {
   "cell_type": "code",
   "execution_count": 48,
   "id": "initial_id",
   "metadata": {
    "collapsed": true,
    "ExecuteTime": {
     "end_time": "2024-03-11T21:32:19.601182Z",
     "start_time": "2024-03-11T21:32:19.598483Z"
    }
   },
   "outputs": [],
   "source": []
  },
  {
   "cell_type": "code",
   "outputs": [],
   "source": [
    "import requests\n",
    "import pandas as pd\n",
    "import io"
   ],
   "metadata": {
    "collapsed": false,
    "ExecuteTime": {
     "end_time": "2024-03-14T05:29:04.946204Z",
     "start_time": "2024-03-14T05:29:04.901957Z"
    }
   },
   "id": "6c41743698e4bf2f",
   "execution_count": 1
  },
  {
   "cell_type": "code",
   "outputs": [],
   "source": [
    "urldata2 = requests.get(\"https://data.cityofnewyork.us/resource/qp3b-zxtp.csv?$limit=50&$offset=150\")"
   ],
   "metadata": {
    "collapsed": false,
    "ExecuteTime": {
     "end_time": "2024-03-11T20:36:12.654186Z",
     "start_time": "2024-03-11T20:36:11.997636Z"
    }
   },
   "id": "1ec7f8f41bfe596",
   "execution_count": 30
  },
  {
   "cell_type": "code",
   "outputs": [
    {
     "name": "stdout",
     "output_type": "stream",
     "text": [
      "200\n"
     ]
    }
   ],
   "source": [
    "print(urldata2.status_code)"
   ],
   "metadata": {
    "collapsed": false,
    "ExecuteTime": {
     "end_time": "2024-03-11T20:36:13.306720Z",
     "start_time": "2024-03-11T20:36:13.304059Z"
    }
   },
   "id": "7364c13f528c6d8d",
   "execution_count": 31
  },
  {
   "cell_type": "code",
   "outputs": [],
   "source": [
    "my_all_data = []\n",
    "\n",
    "for i in range(1, 101):\n",
    "    number = 0\n",
    "    urldata = requests.get(\"https://data.cityofnewyork.us/resource/qp3b-zxtp.csv?$limit=50000&$offset=\" + str(number))\n",
    "    my_all_data.append(urldata)\n",
    "    \n",
    "    number = number + 50001"
   ],
   "metadata": {
    "collapsed": false,
    "ExecuteTime": {
     "end_time": "2024-03-13T01:58:35.017275Z",
     "start_time": "2024-03-13T01:55:32.819408Z"
    }
   },
   "id": "a312d722852e103d",
   "execution_count": 2
  },
  {
   "cell_type": "code",
   "outputs": [],
   "source": [
    "my_all_data_ = []\n",
    "\n",
    "for i in my_all_data:\n",
    "    thedata = i.content\n",
    "    rawData_ = pd.read_csv(io.StringIO(thedata.decode('utf-8')))\n",
    "    my_all_data_.append(rawData_)"
   ],
   "metadata": {
    "collapsed": false,
    "ExecuteTime": {
     "end_time": "2024-03-13T02:26:01.030263Z",
     "start_time": "2024-03-13T02:25:55.107267Z"
    }
   },
   "id": "b7f4b5386c016ae0",
   "execution_count": 3
  },
  {
   "cell_type": "code",
   "outputs": [
    {
     "data": {
      "text/plain": "   vendorid     tpep_pickup_datetime    tpep_dropoff_datetime  \\\n0         1  2022-01-01T00:35:40.000  2022-01-01T00:53:29.000   \n1         1  2022-01-01T00:33:43.000  2022-01-01T00:42:07.000   \n2         2  2022-01-01T00:53:21.000  2022-01-01T01:02:19.000   \n3         2  2022-01-01T00:25:21.000  2022-01-01T00:35:23.000   \n4         2  2022-01-01T00:36:48.000  2022-01-01T01:14:20.000   \n\n   passenger_count  trip_distance  ratecodeid store_and_fwd_flag  \\\n0              2.0           3.80         1.0                  N   \n1              1.0           2.10         1.0                  N   \n2              1.0           0.97         1.0                  N   \n3              1.0           1.09         1.0                  N   \n4              1.0           4.30         1.0                  N   \n\n   pulocationid  dolocationid  payment_type  fare_amount  extra  mta_tax  \\\n0           142           236             1         14.5    3.0      0.5   \n1           236            42             1          8.0    0.5      0.5   \n2           166           166             1          7.5    0.5      0.5   \n3           114            68             2          8.0    0.5      0.5   \n4            68           163             1         23.5    0.5      0.5   \n\n   tip_amount  tolls_amount  improvement_surcharge  total_amount  \\\n0        3.65           0.0                    0.3         21.95   \n1        4.00           0.0                    0.3         13.30   \n2        1.76           0.0                    0.3         10.56   \n3        0.00           0.0                    0.3         11.80   \n4        3.00           0.0                    0.3         30.30   \n\n   congestion_surcharge  airport_fee  \n0                   2.5          0.0  \n1                   0.0          0.0  \n2                   0.0          0.0  \n3                   2.5          0.0  \n4                   2.5          0.0  ",
      "text/html": "<div>\n<style scoped>\n    .dataframe tbody tr th:only-of-type {\n        vertical-align: middle;\n    }\n\n    .dataframe tbody tr th {\n        vertical-align: top;\n    }\n\n    .dataframe thead th {\n        text-align: right;\n    }\n</style>\n<table border=\"1\" class=\"dataframe\">\n  <thead>\n    <tr style=\"text-align: right;\">\n      <th></th>\n      <th>vendorid</th>\n      <th>tpep_pickup_datetime</th>\n      <th>tpep_dropoff_datetime</th>\n      <th>passenger_count</th>\n      <th>trip_distance</th>\n      <th>ratecodeid</th>\n      <th>store_and_fwd_flag</th>\n      <th>pulocationid</th>\n      <th>dolocationid</th>\n      <th>payment_type</th>\n      <th>fare_amount</th>\n      <th>extra</th>\n      <th>mta_tax</th>\n      <th>tip_amount</th>\n      <th>tolls_amount</th>\n      <th>improvement_surcharge</th>\n      <th>total_amount</th>\n      <th>congestion_surcharge</th>\n      <th>airport_fee</th>\n    </tr>\n  </thead>\n  <tbody>\n    <tr>\n      <th>0</th>\n      <td>1</td>\n      <td>2022-01-01T00:35:40.000</td>\n      <td>2022-01-01T00:53:29.000</td>\n      <td>2.0</td>\n      <td>3.80</td>\n      <td>1.0</td>\n      <td>N</td>\n      <td>142</td>\n      <td>236</td>\n      <td>1</td>\n      <td>14.5</td>\n      <td>3.0</td>\n      <td>0.5</td>\n      <td>3.65</td>\n      <td>0.0</td>\n      <td>0.3</td>\n      <td>21.95</td>\n      <td>2.5</td>\n      <td>0.0</td>\n    </tr>\n    <tr>\n      <th>1</th>\n      <td>1</td>\n      <td>2022-01-01T00:33:43.000</td>\n      <td>2022-01-01T00:42:07.000</td>\n      <td>1.0</td>\n      <td>2.10</td>\n      <td>1.0</td>\n      <td>N</td>\n      <td>236</td>\n      <td>42</td>\n      <td>1</td>\n      <td>8.0</td>\n      <td>0.5</td>\n      <td>0.5</td>\n      <td>4.00</td>\n      <td>0.0</td>\n      <td>0.3</td>\n      <td>13.30</td>\n      <td>0.0</td>\n      <td>0.0</td>\n    </tr>\n    <tr>\n      <th>2</th>\n      <td>2</td>\n      <td>2022-01-01T00:53:21.000</td>\n      <td>2022-01-01T01:02:19.000</td>\n      <td>1.0</td>\n      <td>0.97</td>\n      <td>1.0</td>\n      <td>N</td>\n      <td>166</td>\n      <td>166</td>\n      <td>1</td>\n      <td>7.5</td>\n      <td>0.5</td>\n      <td>0.5</td>\n      <td>1.76</td>\n      <td>0.0</td>\n      <td>0.3</td>\n      <td>10.56</td>\n      <td>0.0</td>\n      <td>0.0</td>\n    </tr>\n    <tr>\n      <th>3</th>\n      <td>2</td>\n      <td>2022-01-01T00:25:21.000</td>\n      <td>2022-01-01T00:35:23.000</td>\n      <td>1.0</td>\n      <td>1.09</td>\n      <td>1.0</td>\n      <td>N</td>\n      <td>114</td>\n      <td>68</td>\n      <td>2</td>\n      <td>8.0</td>\n      <td>0.5</td>\n      <td>0.5</td>\n      <td>0.00</td>\n      <td>0.0</td>\n      <td>0.3</td>\n      <td>11.80</td>\n      <td>2.5</td>\n      <td>0.0</td>\n    </tr>\n    <tr>\n      <th>4</th>\n      <td>2</td>\n      <td>2022-01-01T00:36:48.000</td>\n      <td>2022-01-01T01:14:20.000</td>\n      <td>1.0</td>\n      <td>4.30</td>\n      <td>1.0</td>\n      <td>N</td>\n      <td>68</td>\n      <td>163</td>\n      <td>1</td>\n      <td>23.5</td>\n      <td>0.5</td>\n      <td>0.5</td>\n      <td>3.00</td>\n      <td>0.0</td>\n      <td>0.3</td>\n      <td>30.30</td>\n      <td>2.5</td>\n      <td>0.0</td>\n    </tr>\n  </tbody>\n</table>\n</div>"
     },
     "execution_count": 4,
     "metadata": {},
     "output_type": "execute_result"
    }
   ],
   "source": [
    "my_all_data_[9].head()"
   ],
   "metadata": {
    "collapsed": false,
    "ExecuteTime": {
     "end_time": "2024-03-13T02:26:06.409660Z",
     "start_time": "2024-03-13T02:26:06.392102Z"
    }
   },
   "id": "b48b2f0c67490528",
   "execution_count": 4
  },
  {
   "cell_type": "code",
   "outputs": [],
   "source": [
    "df = pd.concat(my_all_data_)"
   ],
   "metadata": {
    "collapsed": false,
    "ExecuteTime": {
     "end_time": "2024-03-13T02:26:13.493847Z",
     "start_time": "2024-03-13T02:26:13.043187Z"
    }
   },
   "id": "4ccf5e35096f10c5",
   "execution_count": 5
  },
  {
   "cell_type": "code",
   "outputs": [
    {
     "data": {
      "text/plain": "(5000000, 19)"
     },
     "execution_count": 6,
     "metadata": {},
     "output_type": "execute_result"
    }
   ],
   "source": [
    "df.shape"
   ],
   "metadata": {
    "collapsed": false,
    "ExecuteTime": {
     "end_time": "2024-03-13T02:26:14.810867Z",
     "start_time": "2024-03-13T02:26:14.806954Z"
    }
   },
   "id": "258741a460680b0f",
   "execution_count": 6
  },
  {
   "cell_type": "code",
   "outputs": [
    {
     "data": {
      "text/plain": "       vendorid     tpep_pickup_datetime    tpep_dropoff_datetime  \\\n49995         2  2022-01-01T19:14:47.000  2022-01-01T19:49:51.000   \n49996         2  2022-01-01T19:09:24.000  2022-01-01T19:13:37.000   \n49997         2  2022-01-01T19:57:43.000  2022-01-01T20:08:56.000   \n49998         2  2022-01-01T19:02:24.000  2022-01-01T19:05:39.000   \n49999         2  2022-01-01T19:22:29.000  2022-01-01T19:34:10.000   \n\n       passenger_count  trip_distance  ratecodeid store_and_fwd_flag  \\\n49995              1.0          17.48         2.0                  N   \n49996              1.0           0.77         1.0                  N   \n49997              1.0           3.07         1.0                  N   \n49998              3.0           0.86         1.0                  N   \n49999              2.0           2.22         1.0                  N   \n\n       pulocationid  dolocationid  payment_type  fare_amount  extra  mta_tax  \\\n49995            79           132             1         52.0    0.0      0.5   \n49996           161           164             1          4.5    0.0      0.5   \n49997            79           256             1         11.5    0.0      0.5   \n49998           170           164             2          4.5    0.0      0.5   \n49999           170           236             1         10.0    0.0      0.5   \n\n       tip_amount  tolls_amount  improvement_surcharge  total_amount  \\\n49995        1.00          6.55                    0.3         64.10   \n49996        1.95          0.00                    0.3          9.75   \n49997        2.96          0.00                    0.3         17.76   \n49998        0.00          0.00                    0.3          7.80   \n49999        3.32          0.00                    0.3         16.62   \n\n       congestion_surcharge  airport_fee  \n49995                   2.5         1.25  \n49996                   2.5         0.00  \n49997                   2.5         0.00  \n49998                   2.5         0.00  \n49999                   2.5         0.00  ",
      "text/html": "<div>\n<style scoped>\n    .dataframe tbody tr th:only-of-type {\n        vertical-align: middle;\n    }\n\n    .dataframe tbody tr th {\n        vertical-align: top;\n    }\n\n    .dataframe thead th {\n        text-align: right;\n    }\n</style>\n<table border=\"1\" class=\"dataframe\">\n  <thead>\n    <tr style=\"text-align: right;\">\n      <th></th>\n      <th>vendorid</th>\n      <th>tpep_pickup_datetime</th>\n      <th>tpep_dropoff_datetime</th>\n      <th>passenger_count</th>\n      <th>trip_distance</th>\n      <th>ratecodeid</th>\n      <th>store_and_fwd_flag</th>\n      <th>pulocationid</th>\n      <th>dolocationid</th>\n      <th>payment_type</th>\n      <th>fare_amount</th>\n      <th>extra</th>\n      <th>mta_tax</th>\n      <th>tip_amount</th>\n      <th>tolls_amount</th>\n      <th>improvement_surcharge</th>\n      <th>total_amount</th>\n      <th>congestion_surcharge</th>\n      <th>airport_fee</th>\n    </tr>\n  </thead>\n  <tbody>\n    <tr>\n      <th>49995</th>\n      <td>2</td>\n      <td>2022-01-01T19:14:47.000</td>\n      <td>2022-01-01T19:49:51.000</td>\n      <td>1.0</td>\n      <td>17.48</td>\n      <td>2.0</td>\n      <td>N</td>\n      <td>79</td>\n      <td>132</td>\n      <td>1</td>\n      <td>52.0</td>\n      <td>0.0</td>\n      <td>0.5</td>\n      <td>1.00</td>\n      <td>6.55</td>\n      <td>0.3</td>\n      <td>64.10</td>\n      <td>2.5</td>\n      <td>1.25</td>\n    </tr>\n    <tr>\n      <th>49996</th>\n      <td>2</td>\n      <td>2022-01-01T19:09:24.000</td>\n      <td>2022-01-01T19:13:37.000</td>\n      <td>1.0</td>\n      <td>0.77</td>\n      <td>1.0</td>\n      <td>N</td>\n      <td>161</td>\n      <td>164</td>\n      <td>1</td>\n      <td>4.5</td>\n      <td>0.0</td>\n      <td>0.5</td>\n      <td>1.95</td>\n      <td>0.00</td>\n      <td>0.3</td>\n      <td>9.75</td>\n      <td>2.5</td>\n      <td>0.00</td>\n    </tr>\n    <tr>\n      <th>49997</th>\n      <td>2</td>\n      <td>2022-01-01T19:57:43.000</td>\n      <td>2022-01-01T20:08:56.000</td>\n      <td>1.0</td>\n      <td>3.07</td>\n      <td>1.0</td>\n      <td>N</td>\n      <td>79</td>\n      <td>256</td>\n      <td>1</td>\n      <td>11.5</td>\n      <td>0.0</td>\n      <td>0.5</td>\n      <td>2.96</td>\n      <td>0.00</td>\n      <td>0.3</td>\n      <td>17.76</td>\n      <td>2.5</td>\n      <td>0.00</td>\n    </tr>\n    <tr>\n      <th>49998</th>\n      <td>2</td>\n      <td>2022-01-01T19:02:24.000</td>\n      <td>2022-01-01T19:05:39.000</td>\n      <td>3.0</td>\n      <td>0.86</td>\n      <td>1.0</td>\n      <td>N</td>\n      <td>170</td>\n      <td>164</td>\n      <td>2</td>\n      <td>4.5</td>\n      <td>0.0</td>\n      <td>0.5</td>\n      <td>0.00</td>\n      <td>0.00</td>\n      <td>0.3</td>\n      <td>7.80</td>\n      <td>2.5</td>\n      <td>0.00</td>\n    </tr>\n    <tr>\n      <th>49999</th>\n      <td>2</td>\n      <td>2022-01-01T19:22:29.000</td>\n      <td>2022-01-01T19:34:10.000</td>\n      <td>2.0</td>\n      <td>2.22</td>\n      <td>1.0</td>\n      <td>N</td>\n      <td>170</td>\n      <td>236</td>\n      <td>1</td>\n      <td>10.0</td>\n      <td>0.0</td>\n      <td>0.5</td>\n      <td>3.32</td>\n      <td>0.00</td>\n      <td>0.3</td>\n      <td>16.62</td>\n      <td>2.5</td>\n      <td>0.00</td>\n    </tr>\n  </tbody>\n</table>\n</div>"
     },
     "execution_count": 48,
     "metadata": {},
     "output_type": "execute_result"
    }
   ],
   "source": [
    "df.tail()"
   ],
   "metadata": {
    "collapsed": false,
    "ExecuteTime": {
     "end_time": "2024-03-11T21:29:25.824444Z",
     "start_time": "2024-03-11T21:29:25.813783Z"
    }
   },
   "id": "2f75eb0c6c32f593",
   "execution_count": 48
  },
  {
   "cell_type": "code",
   "outputs": [],
   "source": [],
   "metadata": {
    "collapsed": false
   },
   "id": "76d17254f4d46c4d"
  },
  {
   "cell_type": "code",
   "outputs": [],
   "source": [
    "from pyspark.sql import SparkSession\n",
    "from pyspark.sql.functions import *"
   ],
   "metadata": {
    "collapsed": false,
    "ExecuteTime": {
     "end_time": "2024-03-14T16:21:17.212930Z",
     "start_time": "2024-03-14T16:21:17.171031Z"
    }
   },
   "id": "2d21ff3aac890d78",
   "execution_count": 1
  },
  {
   "cell_type": "code",
   "outputs": [
    {
     "name": "stderr",
     "output_type": "stream",
     "text": [
      "24/03/14 10:21:40 WARN Utils: Your hostname, MKM.local resolves to a loopback address: 127.0.0.1; using 192.168.88.77 instead (on interface en1)\n",
      "24/03/14 10:21:40 WARN Utils: Set SPARK_LOCAL_IP if you need to bind to another address\n",
      "Setting default log level to \"WARN\".\n",
      "To adjust logging level use sc.setLogLevel(newLevel). For SparkR, use setLogLevel(newLevel).\n",
      "24/03/14 10:21:41 WARN NativeCodeLoader: Unable to load native-hadoop library for your platform... using builtin-java classes where applicable\n"
     ]
    }
   ],
   "source": [
    "spark = SparkSession.builder.appName(\"nyc_yellow_taxi_trip\").getOrCreate()"
   ],
   "metadata": {
    "collapsed": false,
    "ExecuteTime": {
     "end_time": "2024-03-14T16:21:43.370197Z",
     "start_time": "2024-03-14T16:21:36.069565Z"
    }
   },
   "id": "bf421660890e8ff7",
   "execution_count": 2
  },
  {
   "cell_type": "code",
   "outputs": [
    {
     "data": {
      "text/plain": "<SparkContext master=local[*] appName=nyc_yellow_taxi_trip>",
      "text/html": "\n        <div>\n            <p><b>SparkContext</b></p>\n\n            <p><a href=\"http://192.168.88.77:4040\">Spark UI</a></p>\n\n            <dl>\n              <dt>Version</dt>\n                <dd><code>v3.5.0</code></dd>\n              <dt>Master</dt>\n                <dd><code>local[*]</code></dd>\n              <dt>AppName</dt>\n                <dd><code>nyc_yellow_taxi_trip</code></dd>\n            </dl>\n        </div>\n        "
     },
     "execution_count": 3,
     "metadata": {},
     "output_type": "execute_result"
    }
   ],
   "source": [
    "spark.sparkContext"
   ],
   "metadata": {
    "collapsed": false,
    "ExecuteTime": {
     "end_time": "2024-03-14T05:56:12.491090Z",
     "start_time": "2024-03-14T05:56:12.477704Z"
    }
   },
   "id": "3f8f4e0c6ce679e3",
   "execution_count": 3
  },
  {
   "cell_type": "code",
   "outputs": [
    {
     "name": "stderr",
     "output_type": "stream",
     "text": [
      "                                                                                \r"
     ]
    }
   ],
   "source": [
    "df_spark = spark.read.csv(\"/Users/mikemusas/Downloads/2022_Yellow_Taxi_Trip_Data.csv\", header=True, inferSchema=True)"
   ],
   "metadata": {
    "collapsed": false,
    "ExecuteTime": {
     "end_time": "2024-03-14T16:58:42.817777Z",
     "start_time": "2024-03-14T16:58:21.636045Z"
    }
   },
   "id": "6486709a56d188f",
   "execution_count": 50
  },
  {
   "cell_type": "code",
   "outputs": [],
   "source": [
    "df_spark_n = (df_spark\n",
    " .withColumn(\"pickup_datetime\", to_timestamp(col(\"tpep_pickup_datetime\"), \"MM/dd/yyyy hh:mm:ss a\"))\n",
    " .drop(\"tpep_pickup_datetime\")\n",
    " .withColumn(\"dropoff_datetime\", to_timestamp(col(\"tpep_dropoff_datetime\"), \"MM/dd/yyyy hh:mm:ss a\"))\n",
    " .drop(\"tpep_dropoff_datetime\")\n",
    " )"
   ],
   "metadata": {
    "collapsed": false,
    "ExecuteTime": {
     "end_time": "2024-03-14T16:59:39.157602Z",
     "start_time": "2024-03-14T16:59:39.062135Z"
    }
   },
   "id": "cd9654e8c690c44",
   "execution_count": 51
  },
  {
   "cell_type": "code",
   "outputs": [
    {
     "name": "stdout",
     "output_type": "stream",
     "text": [
      "root\n",
      " |-- VendorID: integer (nullable = true)\n",
      " |-- passenger_count: integer (nullable = true)\n",
      " |-- trip_distance: double (nullable = true)\n",
      " |-- RatecodeID: integer (nullable = true)\n",
      " |-- store_and_fwd_flag: string (nullable = true)\n",
      " |-- PULocationID: integer (nullable = true)\n",
      " |-- DOLocationID: integer (nullable = true)\n",
      " |-- payment_type: integer (nullable = true)\n",
      " |-- fare_amount: double (nullable = true)\n",
      " |-- extra: double (nullable = true)\n",
      " |-- mta_tax: double (nullable = true)\n",
      " |-- tip_amount: double (nullable = true)\n",
      " |-- tolls_amount: double (nullable = true)\n",
      " |-- improvement_surcharge: double (nullable = true)\n",
      " |-- total_amount: double (nullable = true)\n",
      " |-- congestion_surcharge: double (nullable = true)\n",
      " |-- airport_fee: double (nullable = true)\n",
      " |-- pickup_datetime: timestamp (nullable = true)\n",
      " |-- dropoff_datetime: timestamp (nullable = true)\n"
     ]
    }
   ],
   "source": [
    "df_spark_n.printSchema()"
   ],
   "metadata": {
    "collapsed": false,
    "ExecuteTime": {
     "end_time": "2024-03-14T05:57:27.122855Z",
     "start_time": "2024-03-14T05:57:27.113283Z"
    }
   },
   "id": "fa7f74eebd24a81b",
   "execution_count": 6
  },
  {
   "cell_type": "code",
   "outputs": [
    {
     "name": "stdout",
     "output_type": "stream",
     "text": [
      "+--------+---------------+-------------+----------+------------------+------------+------------+------------+-----------+-----+-------+----------+------------+---------------------+------------+--------------------+-----------+-------------------+-------------------+\n",
      "|VendorID|passenger_count|trip_distance|RatecodeID|store_and_fwd_flag|PULocationID|DOLocationID|payment_type|fare_amount|extra|mta_tax|tip_amount|tolls_amount|improvement_surcharge|total_amount|congestion_surcharge|airport_fee|pickup_datetime    |dropoff_datetime   |\n",
      "+--------+---------------+-------------+----------+------------------+------------+------------+------------+-----------+-----+-------+----------+------------+---------------------+------------+--------------------+-----------+-------------------+-------------------+\n",
      "|1       |2              |3.8          |1         |N                 |142         |236         |1           |14.5       |3.0  |0.5    |3.65      |0.0         |0.3                  |21.95       |2.5                 |0.0        |2022-01-01 00:35:40|2022-01-01 00:53:29|\n",
      "|1       |1              |2.1          |1         |N                 |236         |42          |1           |8.0        |0.5  |0.5    |4.0       |0.0         |0.3                  |13.3        |0.0                 |0.0        |2022-01-01 00:33:43|2022-01-01 00:42:07|\n",
      "|2       |1              |0.97         |1         |N                 |166         |166         |1           |7.5        |0.5  |0.5    |1.76      |0.0         |0.3                  |10.56       |0.0                 |0.0        |2022-01-01 00:53:21|2022-01-01 01:02:19|\n",
      "+--------+---------------+-------------+----------+------------------+------------+------------+------------+-----------+-----+-------+----------+------------+---------------------+------------+--------------------+-----------+-------------------+-------------------+\n"
     ]
    }
   ],
   "source": [
    "df_spark_n.show(n=3, truncate=False)"
   ],
   "metadata": {
    "collapsed": false,
    "ExecuteTime": {
     "end_time": "2024-03-14T05:57:30.659641Z",
     "start_time": "2024-03-14T05:57:29.454690Z"
    }
   },
   "id": "effd886cacc81583",
   "execution_count": 7
  },
  {
   "cell_type": "code",
   "outputs": [],
   "source": [
    "df_spark_22 = (df_spark_n\n",
    "               .select(\"*\")\n",
    "               .where((year(col(\"pickup_datetime\")) == 2022) & (month(col(\"pickup_datetime\")) == 1))\n",
    "               )"
   ],
   "metadata": {
    "collapsed": false,
    "ExecuteTime": {
     "end_time": "2024-03-14T16:59:47.821775Z",
     "start_time": "2024-03-14T16:59:47.757893Z"
    }
   },
   "id": "25d2b08f2a4b529c",
   "execution_count": 52
  },
  {
   "cell_type": "code",
   "outputs": [
    {
     "name": "stdout",
     "output_type": "stream",
     "text": [
      "+--------+---------------+-------------+----------+------------------+------------+------------+------------+-----------+-----+-------+----------+------------+---------------------+------------+--------------------+-----------+-------------------+-------------------+\n",
      "|VendorID|passenger_count|trip_distance|RatecodeID|store_and_fwd_flag|PULocationID|DOLocationID|payment_type|fare_amount|extra|mta_tax|tip_amount|tolls_amount|improvement_surcharge|total_amount|congestion_surcharge|airport_fee|pickup_datetime    |dropoff_datetime   |\n",
      "+--------+---------------+-------------+----------+------------------+------------+------------+------------+-----------+-----+-------+----------+------------+---------------------+------------+--------------------+-----------+-------------------+-------------------+\n",
      "|1       |2              |3.8          |1         |N                 |142         |236         |1           |14.5       |3.0  |0.5    |3.65      |0.0         |0.3                  |21.95       |2.5                 |0.0        |2022-01-01 00:35:40|2022-01-01 00:53:29|\n",
      "|1       |1              |2.1          |1         |N                 |236         |42          |1           |8.0        |0.5  |0.5    |4.0       |0.0         |0.3                  |13.3        |0.0                 |0.0        |2022-01-01 00:33:43|2022-01-01 00:42:07|\n",
      "|2       |1              |0.97         |1         |N                 |166         |166         |1           |7.5        |0.5  |0.5    |1.76      |0.0         |0.3                  |10.56       |0.0                 |0.0        |2022-01-01 00:53:21|2022-01-01 01:02:19|\n",
      "+--------+---------------+-------------+----------+------------------+------------+------------+------------+-----------+-----+-------+----------+------------+---------------------+------------+--------------------+-----------+-------------------+-------------------+\n"
     ]
    }
   ],
   "source": [
    "df_spark_22.show(n=3, truncate=False)"
   ],
   "metadata": {
    "collapsed": false,
    "ExecuteTime": {
     "end_time": "2024-03-14T16:59:51.683115Z",
     "start_time": "2024-03-14T16:59:51.264942Z"
    }
   },
   "id": "c5fc4fd79cc00875",
   "execution_count": 53
  },
  {
   "cell_type": "code",
   "outputs": [
    {
     "name": "stderr",
     "output_type": "stream",
     "text": [
      "[Stage 20:====================================================>   (28 + 2) / 30]\r"
     ]
    },
    {
     "name": "stdout",
     "output_type": "stream",
     "text": [
      "+----------------------+\n",
      "|month(pickup_datetime)|\n",
      "+----------------------+\n",
      "|1                     |\n",
      "|3                     |\n",
      "|2                     |\n",
      "+----------------------+\n"
     ]
    },
    {
     "name": "stderr",
     "output_type": "stream",
     "text": [
      "                                                                                \r"
     ]
    }
   ],
   "source": [
    "(df_spark_22\n",
    " .select(month(col(\"pickup_datetime\")))\n",
    " .distinct()\n",
    " .show(n=12, truncate=False)\n",
    " )"
   ],
   "metadata": {
    "collapsed": false,
    "ExecuteTime": {
     "end_time": "2024-03-14T16:35:44.706879Z",
     "start_time": "2024-03-14T16:35:11.899489Z"
    }
   },
   "id": "98d85dfa6c4ae591",
   "execution_count": 23
  },
  {
   "cell_type": "code",
   "outputs": [
    {
     "name": "stderr",
     "output_type": "stream",
     "text": [
      "                                                                                \r"
     ]
    },
    {
     "data": {
      "text/plain": "9071207"
     },
     "execution_count": 29,
     "metadata": {},
     "output_type": "execute_result"
    }
   ],
   "source": [
    "df_spark_22.count()"
   ],
   "metadata": {
    "collapsed": false,
    "ExecuteTime": {
     "end_time": "2024-03-14T16:37:55.572525Z",
     "start_time": "2024-03-14T16:37:24.762719Z"
    }
   },
   "id": "47746e985160a1ec",
   "execution_count": 29
  },
  {
   "cell_type": "code",
   "outputs": [
    {
     "ename": "AnalysisException",
     "evalue": "[UNRESOLVED_COLUMN.WITH_SUGGESTION] A column or function parameter with name `pickup_datetime` cannot be resolved. Did you mean one of the following? [`month(pickup_datetime)`].;\n'Aggregate [month('pickup_datetime)], [month('pickup_datetime) AS month(pickup_datetime)#1424, count(1) AS count#1423L]\n+- Project [month(cast(pickup_datetime#892 as date)) AS month(pickup_datetime)#1419]\n   +- Filter ((year(cast(pickup_datetime#892 as date)) = 2022) AND (month(cast(pickup_datetime#892 as date)) <= 3))\n      +- Project [VendorID#854, passenger_count#857, trip_distance#858, RatecodeID#859, store_and_fwd_flag#860, PULocationID#861, DOLocationID#862, payment_type#863, fare_amount#864, extra#865, mta_tax#866, tip_amount#867, tolls_amount#868, improvement_surcharge#869, total_amount#870, congestion_surcharge#871, airport_fee#872, pickup_datetime#892, dropoff_datetime#933]\n         +- Project [VendorID#854, passenger_count#857, trip_distance#858, RatecodeID#859, store_and_fwd_flag#860, PULocationID#861, DOLocationID#862, payment_type#863, fare_amount#864, extra#865, mta_tax#866, tip_amount#867, tolls_amount#868, improvement_surcharge#869, total_amount#870, congestion_surcharge#871, airport_fee#872, pickup_datetime#892, dropoff_datetime#933]\n            +- Project [VendorID#854, tpep_dropoff_datetime#856, passenger_count#857, trip_distance#858, RatecodeID#859, store_and_fwd_flag#860, PULocationID#861, DOLocationID#862, payment_type#863, fare_amount#864, extra#865, mta_tax#866, tip_amount#867, tolls_amount#868, improvement_surcharge#869, total_amount#870, congestion_surcharge#871, airport_fee#872, pickup_datetime#892, to_timestamp(tpep_dropoff_datetime#856, Some(MM/dd/yyyy hh:mm:ss a), TimestampType, Some(America/Denver), false) AS dropoff_datetime#933]\n               +- Project [VendorID#854, tpep_dropoff_datetime#856, passenger_count#857, trip_distance#858, RatecodeID#859, store_and_fwd_flag#860, PULocationID#861, DOLocationID#862, payment_type#863, fare_amount#864, extra#865, mta_tax#866, tip_amount#867, tolls_amount#868, improvement_surcharge#869, total_amount#870, congestion_surcharge#871, airport_fee#872, pickup_datetime#892]\n                  +- Project [VendorID#854, tpep_pickup_datetime#855, tpep_dropoff_datetime#856, passenger_count#857, trip_distance#858, RatecodeID#859, store_and_fwd_flag#860, PULocationID#861, DOLocationID#862, payment_type#863, fare_amount#864, extra#865, mta_tax#866, tip_amount#867, tolls_amount#868, improvement_surcharge#869, total_amount#870, congestion_surcharge#871, airport_fee#872, to_timestamp(tpep_pickup_datetime#855, Some(MM/dd/yyyy hh:mm:ss a), TimestampType, Some(America/Denver), false) AS pickup_datetime#892]\n                     +- Relation [VendorID#854,tpep_pickup_datetime#855,tpep_dropoff_datetime#856,passenger_count#857,trip_distance#858,RatecodeID#859,store_and_fwd_flag#860,PULocationID#861,DOLocationID#862,payment_type#863,fare_amount#864,extra#865,mta_tax#866,tip_amount#867,tolls_amount#868,improvement_surcharge#869,total_amount#870,congestion_surcharge#871,airport_fee#872] csv\n",
     "output_type": "error",
     "traceback": [
      "\u001B[0;31m---------------------------------------------------------------------------\u001B[0m",
      "\u001B[0;31mAnalysisException\u001B[0m                         Traceback (most recent call last)",
      "Cell \u001B[0;32mIn[35], line 4\u001B[0m\n\u001B[1;32m      1\u001B[0m (\u001B[43mdf_spark_22\u001B[49m\n\u001B[1;32m      2\u001B[0m \u001B[43m \u001B[49m\u001B[38;5;241;43m.\u001B[39;49m\u001B[43mselect\u001B[49m\u001B[43m(\u001B[49m\u001B[43mmonth\u001B[49m\u001B[43m(\u001B[49m\u001B[38;5;124;43m\"\u001B[39;49m\u001B[38;5;124;43mpickup_datetime\u001B[39;49m\u001B[38;5;124;43m\"\u001B[39;49m\u001B[43m)\u001B[49m\u001B[43m)\u001B[49m\n\u001B[1;32m      3\u001B[0m \u001B[43m \u001B[49m\u001B[38;5;241;43m.\u001B[39;49m\u001B[43mgroupBy\u001B[49m\u001B[43m(\u001B[49m\u001B[43mmonth\u001B[49m\u001B[43m(\u001B[49m\u001B[43mcol\u001B[49m\u001B[43m(\u001B[49m\u001B[38;5;124;43m\"\u001B[39;49m\u001B[38;5;124;43mpickup_datetime\u001B[39;49m\u001B[38;5;124;43m\"\u001B[39;49m\u001B[43m)\u001B[49m\u001B[43m)\u001B[49m\u001B[43m)\u001B[49m\n\u001B[0;32m----> 4\u001B[0m \u001B[43m \u001B[49m\u001B[38;5;241;43m.\u001B[39;49m\u001B[43mcount\u001B[49m\u001B[43m(\u001B[49m\u001B[43m)\u001B[49m\n\u001B[1;32m      5\u001B[0m  \u001B[38;5;241m.\u001B[39mshow(truncate\u001B[38;5;241m=\u001B[39m\u001B[38;5;28;01mFalse\u001B[39;00m)\n\u001B[1;32m      6\u001B[0m  )\n",
      "File \u001B[0;32m~/Documents/DataProjects/venv/lib/python3.11/site-packages/pyspark/sql/group.py:38\u001B[0m, in \u001B[0;36mdfapi.<locals>._api\u001B[0;34m(self)\u001B[0m\n\u001B[1;32m     36\u001B[0m \u001B[38;5;28;01mdef\u001B[39;00m \u001B[38;5;21m_api\u001B[39m(\u001B[38;5;28mself\u001B[39m: \u001B[38;5;124m\"\u001B[39m\u001B[38;5;124mGroupedData\u001B[39m\u001B[38;5;124m\"\u001B[39m) \u001B[38;5;241m-\u001B[39m\u001B[38;5;241m>\u001B[39m DataFrame:\n\u001B[1;32m     37\u001B[0m     name \u001B[38;5;241m=\u001B[39m f\u001B[38;5;241m.\u001B[39m\u001B[38;5;18m__name__\u001B[39m\n\u001B[0;32m---> 38\u001B[0m     jdf \u001B[38;5;241m=\u001B[39m \u001B[38;5;28;43mgetattr\u001B[39;49m\u001B[43m(\u001B[49m\u001B[38;5;28;43mself\u001B[39;49m\u001B[38;5;241;43m.\u001B[39;49m\u001B[43m_jgd\u001B[49m\u001B[43m,\u001B[49m\u001B[43m \u001B[49m\u001B[43mname\u001B[49m\u001B[43m)\u001B[49m\u001B[43m(\u001B[49m\u001B[43m)\u001B[49m\n\u001B[1;32m     39\u001B[0m     \u001B[38;5;28;01mreturn\u001B[39;00m DataFrame(jdf, \u001B[38;5;28mself\u001B[39m\u001B[38;5;241m.\u001B[39msession)\n",
      "File \u001B[0;32m~/Documents/DataProjects/venv/lib/python3.11/site-packages/py4j/java_gateway.py:1322\u001B[0m, in \u001B[0;36mJavaMember.__call__\u001B[0;34m(self, *args)\u001B[0m\n\u001B[1;32m   1316\u001B[0m command \u001B[38;5;241m=\u001B[39m proto\u001B[38;5;241m.\u001B[39mCALL_COMMAND_NAME \u001B[38;5;241m+\u001B[39m\\\n\u001B[1;32m   1317\u001B[0m     \u001B[38;5;28mself\u001B[39m\u001B[38;5;241m.\u001B[39mcommand_header \u001B[38;5;241m+\u001B[39m\\\n\u001B[1;32m   1318\u001B[0m     args_command \u001B[38;5;241m+\u001B[39m\\\n\u001B[1;32m   1319\u001B[0m     proto\u001B[38;5;241m.\u001B[39mEND_COMMAND_PART\n\u001B[1;32m   1321\u001B[0m answer \u001B[38;5;241m=\u001B[39m \u001B[38;5;28mself\u001B[39m\u001B[38;5;241m.\u001B[39mgateway_client\u001B[38;5;241m.\u001B[39msend_command(command)\n\u001B[0;32m-> 1322\u001B[0m return_value \u001B[38;5;241m=\u001B[39m \u001B[43mget_return_value\u001B[49m\u001B[43m(\u001B[49m\n\u001B[1;32m   1323\u001B[0m \u001B[43m    \u001B[49m\u001B[43manswer\u001B[49m\u001B[43m,\u001B[49m\u001B[43m \u001B[49m\u001B[38;5;28;43mself\u001B[39;49m\u001B[38;5;241;43m.\u001B[39;49m\u001B[43mgateway_client\u001B[49m\u001B[43m,\u001B[49m\u001B[43m \u001B[49m\u001B[38;5;28;43mself\u001B[39;49m\u001B[38;5;241;43m.\u001B[39;49m\u001B[43mtarget_id\u001B[49m\u001B[43m,\u001B[49m\u001B[43m \u001B[49m\u001B[38;5;28;43mself\u001B[39;49m\u001B[38;5;241;43m.\u001B[39;49m\u001B[43mname\u001B[49m\u001B[43m)\u001B[49m\n\u001B[1;32m   1325\u001B[0m \u001B[38;5;28;01mfor\u001B[39;00m temp_arg \u001B[38;5;129;01min\u001B[39;00m temp_args:\n\u001B[1;32m   1326\u001B[0m     \u001B[38;5;28;01mif\u001B[39;00m \u001B[38;5;28mhasattr\u001B[39m(temp_arg, \u001B[38;5;124m\"\u001B[39m\u001B[38;5;124m_detach\u001B[39m\u001B[38;5;124m\"\u001B[39m):\n",
      "File \u001B[0;32m~/Documents/DataProjects/venv/lib/python3.11/site-packages/pyspark/errors/exceptions/captured.py:185\u001B[0m, in \u001B[0;36mcapture_sql_exception.<locals>.deco\u001B[0;34m(*a, **kw)\u001B[0m\n\u001B[1;32m    181\u001B[0m converted \u001B[38;5;241m=\u001B[39m convert_exception(e\u001B[38;5;241m.\u001B[39mjava_exception)\n\u001B[1;32m    182\u001B[0m \u001B[38;5;28;01mif\u001B[39;00m \u001B[38;5;129;01mnot\u001B[39;00m \u001B[38;5;28misinstance\u001B[39m(converted, UnknownException):\n\u001B[1;32m    183\u001B[0m     \u001B[38;5;66;03m# Hide where the exception came from that shows a non-Pythonic\u001B[39;00m\n\u001B[1;32m    184\u001B[0m     \u001B[38;5;66;03m# JVM exception message.\u001B[39;00m\n\u001B[0;32m--> 185\u001B[0m     \u001B[38;5;28;01mraise\u001B[39;00m converted \u001B[38;5;28;01mfrom\u001B[39;00m \u001B[38;5;28;01mNone\u001B[39;00m\n\u001B[1;32m    186\u001B[0m \u001B[38;5;28;01melse\u001B[39;00m:\n\u001B[1;32m    187\u001B[0m     \u001B[38;5;28;01mraise\u001B[39;00m\n",
      "\u001B[0;31mAnalysisException\u001B[0m: [UNRESOLVED_COLUMN.WITH_SUGGESTION] A column or function parameter with name `pickup_datetime` cannot be resolved. Did you mean one of the following? [`month(pickup_datetime)`].;\n'Aggregate [month('pickup_datetime)], [month('pickup_datetime) AS month(pickup_datetime)#1424, count(1) AS count#1423L]\n+- Project [month(cast(pickup_datetime#892 as date)) AS month(pickup_datetime)#1419]\n   +- Filter ((year(cast(pickup_datetime#892 as date)) = 2022) AND (month(cast(pickup_datetime#892 as date)) <= 3))\n      +- Project [VendorID#854, passenger_count#857, trip_distance#858, RatecodeID#859, store_and_fwd_flag#860, PULocationID#861, DOLocationID#862, payment_type#863, fare_amount#864, extra#865, mta_tax#866, tip_amount#867, tolls_amount#868, improvement_surcharge#869, total_amount#870, congestion_surcharge#871, airport_fee#872, pickup_datetime#892, dropoff_datetime#933]\n         +- Project [VendorID#854, passenger_count#857, trip_distance#858, RatecodeID#859, store_and_fwd_flag#860, PULocationID#861, DOLocationID#862, payment_type#863, fare_amount#864, extra#865, mta_tax#866, tip_amount#867, tolls_amount#868, improvement_surcharge#869, total_amount#870, congestion_surcharge#871, airport_fee#872, pickup_datetime#892, dropoff_datetime#933]\n            +- Project [VendorID#854, tpep_dropoff_datetime#856, passenger_count#857, trip_distance#858, RatecodeID#859, store_and_fwd_flag#860, PULocationID#861, DOLocationID#862, payment_type#863, fare_amount#864, extra#865, mta_tax#866, tip_amount#867, tolls_amount#868, improvement_surcharge#869, total_amount#870, congestion_surcharge#871, airport_fee#872, pickup_datetime#892, to_timestamp(tpep_dropoff_datetime#856, Some(MM/dd/yyyy hh:mm:ss a), TimestampType, Some(America/Denver), false) AS dropoff_datetime#933]\n               +- Project [VendorID#854, tpep_dropoff_datetime#856, passenger_count#857, trip_distance#858, RatecodeID#859, store_and_fwd_flag#860, PULocationID#861, DOLocationID#862, payment_type#863, fare_amount#864, extra#865, mta_tax#866, tip_amount#867, tolls_amount#868, improvement_surcharge#869, total_amount#870, congestion_surcharge#871, airport_fee#872, pickup_datetime#892]\n                  +- Project [VendorID#854, tpep_pickup_datetime#855, tpep_dropoff_datetime#856, passenger_count#857, trip_distance#858, RatecodeID#859, store_and_fwd_flag#860, PULocationID#861, DOLocationID#862, payment_type#863, fare_amount#864, extra#865, mta_tax#866, tip_amount#867, tolls_amount#868, improvement_surcharge#869, total_amount#870, congestion_surcharge#871, airport_fee#872, to_timestamp(tpep_pickup_datetime#855, Some(MM/dd/yyyy hh:mm:ss a), TimestampType, Some(America/Denver), false) AS pickup_datetime#892]\n                     +- Relation [VendorID#854,tpep_pickup_datetime#855,tpep_dropoff_datetime#856,passenger_count#857,trip_distance#858,RatecodeID#859,store_and_fwd_flag#860,PULocationID#861,DOLocationID#862,payment_type#863,fare_amount#864,extra#865,mta_tax#866,tip_amount#867,tolls_amount#868,improvement_surcharge#869,total_amount#870,congestion_surcharge#871,airport_fee#872] csv\n"
     ]
    }
   ],
   "source": [
    "(df_spark_22\n",
    " .select(month(\"pickup_datetime\"))\n",
    " .groupBy(month(col(\"pickup_datetime\")))\n",
    " .count()\n",
    " .show(truncate=False)\n",
    " )"
   ],
   "metadata": {
    "collapsed": false,
    "ExecuteTime": {
     "end_time": "2024-03-14T16:45:55.884400Z",
     "start_time": "2024-03-14T16:45:55.819271Z"
    }
   },
   "id": "e13a48ebd6af3915",
   "execution_count": 35
  },
  {
   "cell_type": "code",
   "outputs": [],
   "source": [
    "(df_spark\n",
    " .select(\"Color\", \"Count\")\n",
    " .groupBy(\"Color\")\n",
    " .avg(\"Count\")\n",
    " .orderBy(\"avg(Count)\", ascending=False)\n",
    " .show(truncate=False)\n",
    " )"
   ],
   "metadata": {
    "collapsed": false
   },
   "id": "250b3385c38a200"
  },
  {
   "cell_type": "code",
   "outputs": [
    {
     "name": "stderr",
     "output_type": "stream",
     "text": [
      "                                                                                \r"
     ]
    }
   ],
   "source": [
    "# Save a Parquet file\n",
    "parquet_path = \"data_january/\"\n",
    "df_spark_22.write.format(\"parquet\").save(parquet_path)"
   ],
   "metadata": {
    "collapsed": false,
    "ExecuteTime": {
     "end_time": "2024-03-14T17:00:50.426077Z",
     "start_time": "2024-03-14T17:00:08.755488Z"
    }
   },
   "id": "86398f2e759847c5",
   "execution_count": 54
  },
  {
   "cell_type": "code",
   "outputs": [],
   "source": [
    "# Reading the Parquet file\n",
    "parquet_df = spark.read.parquet(parquet_path)"
   ],
   "metadata": {
    "collapsed": false,
    "ExecuteTime": {
     "end_time": "2024-03-14T16:58:08.107409Z",
     "start_time": "2024-03-14T16:58:07.863011Z"
    }
   },
   "id": "25601e61edd8b009",
   "execution_count": 48
  },
  {
   "cell_type": "code",
   "outputs": [
    {
     "name": "stdout",
     "output_type": "stream",
     "text": [
      "+--------+---------------+-------------+----------+------------------+------------+------------+------------+-----------+-----+-------+----------+------------+---------------------+------------+--------------------+-----------+-------------------+-------------------+\n",
      "|VendorID|passenger_count|trip_distance|RatecodeID|store_and_fwd_flag|PULocationID|DOLocationID|payment_type|fare_amount|extra|mta_tax|tip_amount|tolls_amount|improvement_surcharge|total_amount|congestion_surcharge|airport_fee|pickup_datetime    |dropoff_datetime   |\n",
      "+--------+---------------+-------------+----------+------------------+------------+------------+------------+-----------+-----+-------+----------+------------+---------------------+------------+--------------------+-----------+-------------------+-------------------+\n",
      "|2       |2              |2.5          |1         |N                 |140         |162         |1           |19.0       |0.0  |0.5    |4.46      |0.0         |0.3                  |26.76       |2.5                 |0.0        |2022-02-03 15:42:38|2022-02-03 16:14:03|\n",
      "|2       |1              |2.66         |1         |N                 |161         |239         |1           |15.5       |0.0  |0.5    |2.0       |0.0         |0.3                  |20.8        |2.5                 |0.0        |2022-02-03 15:18:37|2022-02-03 15:42:00|\n",
      "|2       |1              |0.71         |1         |N                 |151         |166         |1           |4.5        |0.0  |0.5    |1.06      |0.0         |0.3                  |6.36        |0.0                 |0.0        |2022-02-03 15:47:48|2022-02-03 15:50:47|\n",
      "|2       |1              |0.86         |1         |N                 |262         |236         |1           |6.0        |0.0  |0.5    |1.0       |0.0         |0.3                  |10.3        |2.5                 |0.0        |2022-02-03 15:22:21|2022-02-03 15:29:16|\n",
      "|2       |1              |0.82         |1         |N                 |236         |236         |1           |7.5        |0.0  |0.5    |1.0       |0.0         |0.3                  |11.8        |2.5                 |0.0        |2022-02-03 15:33:32|2022-02-03 15:42:46|\n",
      "|2       |2              |0.96         |1         |N                 |237         |236         |1           |9.0        |0.0  |0.5    |2.46      |0.0         |0.3                  |14.76       |2.5                 |0.0        |2022-02-03 15:26:38|2022-02-03 15:39:31|\n",
      "|2       |1              |0.64         |1         |N                 |162         |161         |2           |6.0        |0.0  |0.5    |0.0       |0.0         |0.3                  |9.3         |2.5                 |0.0        |2022-02-03 15:06:05|2022-02-03 15:12:35|\n",
      "|2       |1              |0.59         |1         |N                 |229         |161         |1           |6.0        |0.0  |0.5    |1.0       |0.0         |0.3                  |10.3        |2.5                 |0.0        |2022-02-03 15:31:16|2022-02-03 15:39:02|\n",
      "|2       |1              |1.35         |1         |N                 |161         |236         |1           |10.5       |0.0  |0.5    |2.76      |0.0         |0.3                  |16.56       |2.5                 |0.0        |2022-02-03 15:44:51|2022-02-03 15:59:12|\n",
      "|2       |1              |0.56         |1         |N                 |161         |162         |1           |5.0        |0.0  |0.5    |2.0       |0.0         |0.3                  |10.3        |2.5                 |0.0        |2022-02-03 15:13:41|2022-02-03 15:18:54|\n",
      "+--------+---------------+-------------+----------+------------------+------------+------------+------------+-----------+-----+-------+----------+------------+---------------------+------------+--------------------+-----------+-------------------+-------------------+\n"
     ]
    }
   ],
   "source": [
    "parquet_df.show(n=10, truncate=False)"
   ],
   "metadata": {
    "collapsed": false,
    "ExecuteTime": {
     "end_time": "2024-03-14T16:58:09.810122Z",
     "start_time": "2024-03-14T16:58:09.264799Z"
    }
   },
   "id": "c403384b7c0bc753",
   "execution_count": 49
  },
  {
   "cell_type": "code",
   "outputs": [],
   "source": [],
   "metadata": {
    "collapsed": false
   },
   "id": "d12da33fb606cb78"
  }
 ],
 "metadata": {
  "kernelspec": {
   "display_name": "Python 3",
   "language": "python",
   "name": "python3"
  },
  "language_info": {
   "codemirror_mode": {
    "name": "ipython",
    "version": 2
   },
   "file_extension": ".py",
   "mimetype": "text/x-python",
   "name": "python",
   "nbconvert_exporter": "python",
   "pygments_lexer": "ipython2",
   "version": "2.7.6"
  }
 },
 "nbformat": 4,
 "nbformat_minor": 5
}
