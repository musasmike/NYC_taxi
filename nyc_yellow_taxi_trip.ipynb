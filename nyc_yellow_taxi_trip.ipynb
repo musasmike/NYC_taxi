{
 "cells": [
  {
   "cell_type": "code",
   "execution_count": 48,
   "id": "initial_id",
   "metadata": {
    "collapsed": true,
    "ExecuteTime": {
     "end_time": "2024-03-11T21:32:19.601182Z",
     "start_time": "2024-03-11T21:32:19.598483Z"
    }
   },
   "outputs": [],
   "source": []
  },
  {
   "cell_type": "code",
   "outputs": [],
   "source": [
    "import requests\n",
    "import pandas as pd\n",
    "import io"
   ],
   "metadata": {
    "collapsed": false,
    "ExecuteTime": {
     "end_time": "2024-03-13T01:55:26.437338Z",
     "start_time": "2024-03-13T01:55:26.415575Z"
    }
   },
   "id": "6c41743698e4bf2f",
   "execution_count": 1
  },
  {
   "cell_type": "code",
   "outputs": [],
   "source": [
    "urldata2 = requests.get(\"https://data.cityofnewyork.us/resource/qp3b-zxtp.csv?$limit=50&$offset=150\")"
   ],
   "metadata": {
    "collapsed": false,
    "ExecuteTime": {
     "end_time": "2024-03-11T20:36:12.654186Z",
     "start_time": "2024-03-11T20:36:11.997636Z"
    }
   },
   "id": "1ec7f8f41bfe596",
   "execution_count": 30
  },
  {
   "cell_type": "code",
   "outputs": [
    {
     "name": "stdout",
     "output_type": "stream",
     "text": [
      "200\n"
     ]
    }
   ],
   "source": [
    "print(urldata2.status_code)"
   ],
   "metadata": {
    "collapsed": false,
    "ExecuteTime": {
     "end_time": "2024-03-11T20:36:13.306720Z",
     "start_time": "2024-03-11T20:36:13.304059Z"
    }
   },
   "id": "7364c13f528c6d8d",
   "execution_count": 31
  },
  {
   "cell_type": "code",
   "outputs": [],
   "source": [
    "my_all_data = []\n",
    "\n",
    "for i in range(1, 101):\n",
    "    number = 0\n",
    "    urldata = requests.get(\"https://data.cityofnewyork.us/resource/qp3b-zxtp.csv?$limit=50000&$offset=\" + str(number))\n",
    "    my_all_data.append(urldata)\n",
    "    \n",
    "    number = number + 50001"
   ],
   "metadata": {
    "collapsed": false,
    "ExecuteTime": {
     "end_time": "2024-03-13T01:58:35.017275Z",
     "start_time": "2024-03-13T01:55:32.819408Z"
    }
   },
   "id": "a312d722852e103d",
   "execution_count": 2
  },
  {
   "cell_type": "code",
   "outputs": [],
   "source": [
    "my_all_data_ = []\n",
    "\n",
    "for i in my_all_data:\n",
    "    thedata = i.content\n",
    "    rawData_ = pd.read_csv(io.StringIO(thedata.decode('utf-8')))\n",
    "    my_all_data_.append(rawData_)"
   ],
   "metadata": {
    "collapsed": false,
    "ExecuteTime": {
     "end_time": "2024-03-13T02:26:01.030263Z",
     "start_time": "2024-03-13T02:25:55.107267Z"
    }
   },
   "id": "b7f4b5386c016ae0",
   "execution_count": 3
  },
  {
   "cell_type": "code",
   "outputs": [
    {
     "data": {
      "text/plain": "   vendorid     tpep_pickup_datetime    tpep_dropoff_datetime  \\\n0         1  2022-01-01T00:35:40.000  2022-01-01T00:53:29.000   \n1         1  2022-01-01T00:33:43.000  2022-01-01T00:42:07.000   \n2         2  2022-01-01T00:53:21.000  2022-01-01T01:02:19.000   \n3         2  2022-01-01T00:25:21.000  2022-01-01T00:35:23.000   \n4         2  2022-01-01T00:36:48.000  2022-01-01T01:14:20.000   \n\n   passenger_count  trip_distance  ratecodeid store_and_fwd_flag  \\\n0              2.0           3.80         1.0                  N   \n1              1.0           2.10         1.0                  N   \n2              1.0           0.97         1.0                  N   \n3              1.0           1.09         1.0                  N   \n4              1.0           4.30         1.0                  N   \n\n   pulocationid  dolocationid  payment_type  fare_amount  extra  mta_tax  \\\n0           142           236             1         14.5    3.0      0.5   \n1           236            42             1          8.0    0.5      0.5   \n2           166           166             1          7.5    0.5      0.5   \n3           114            68             2          8.0    0.5      0.5   \n4            68           163             1         23.5    0.5      0.5   \n\n   tip_amount  tolls_amount  improvement_surcharge  total_amount  \\\n0        3.65           0.0                    0.3         21.95   \n1        4.00           0.0                    0.3         13.30   \n2        1.76           0.0                    0.3         10.56   \n3        0.00           0.0                    0.3         11.80   \n4        3.00           0.0                    0.3         30.30   \n\n   congestion_surcharge  airport_fee  \n0                   2.5          0.0  \n1                   0.0          0.0  \n2                   0.0          0.0  \n3                   2.5          0.0  \n4                   2.5          0.0  ",
      "text/html": "<div>\n<style scoped>\n    .dataframe tbody tr th:only-of-type {\n        vertical-align: middle;\n    }\n\n    .dataframe tbody tr th {\n        vertical-align: top;\n    }\n\n    .dataframe thead th {\n        text-align: right;\n    }\n</style>\n<table border=\"1\" class=\"dataframe\">\n  <thead>\n    <tr style=\"text-align: right;\">\n      <th></th>\n      <th>vendorid</th>\n      <th>tpep_pickup_datetime</th>\n      <th>tpep_dropoff_datetime</th>\n      <th>passenger_count</th>\n      <th>trip_distance</th>\n      <th>ratecodeid</th>\n      <th>store_and_fwd_flag</th>\n      <th>pulocationid</th>\n      <th>dolocationid</th>\n      <th>payment_type</th>\n      <th>fare_amount</th>\n      <th>extra</th>\n      <th>mta_tax</th>\n      <th>tip_amount</th>\n      <th>tolls_amount</th>\n      <th>improvement_surcharge</th>\n      <th>total_amount</th>\n      <th>congestion_surcharge</th>\n      <th>airport_fee</th>\n    </tr>\n  </thead>\n  <tbody>\n    <tr>\n      <th>0</th>\n      <td>1</td>\n      <td>2022-01-01T00:35:40.000</td>\n      <td>2022-01-01T00:53:29.000</td>\n      <td>2.0</td>\n      <td>3.80</td>\n      <td>1.0</td>\n      <td>N</td>\n      <td>142</td>\n      <td>236</td>\n      <td>1</td>\n      <td>14.5</td>\n      <td>3.0</td>\n      <td>0.5</td>\n      <td>3.65</td>\n      <td>0.0</td>\n      <td>0.3</td>\n      <td>21.95</td>\n      <td>2.5</td>\n      <td>0.0</td>\n    </tr>\n    <tr>\n      <th>1</th>\n      <td>1</td>\n      <td>2022-01-01T00:33:43.000</td>\n      <td>2022-01-01T00:42:07.000</td>\n      <td>1.0</td>\n      <td>2.10</td>\n      <td>1.0</td>\n      <td>N</td>\n      <td>236</td>\n      <td>42</td>\n      <td>1</td>\n      <td>8.0</td>\n      <td>0.5</td>\n      <td>0.5</td>\n      <td>4.00</td>\n      <td>0.0</td>\n      <td>0.3</td>\n      <td>13.30</td>\n      <td>0.0</td>\n      <td>0.0</td>\n    </tr>\n    <tr>\n      <th>2</th>\n      <td>2</td>\n      <td>2022-01-01T00:53:21.000</td>\n      <td>2022-01-01T01:02:19.000</td>\n      <td>1.0</td>\n      <td>0.97</td>\n      <td>1.0</td>\n      <td>N</td>\n      <td>166</td>\n      <td>166</td>\n      <td>1</td>\n      <td>7.5</td>\n      <td>0.5</td>\n      <td>0.5</td>\n      <td>1.76</td>\n      <td>0.0</td>\n      <td>0.3</td>\n      <td>10.56</td>\n      <td>0.0</td>\n      <td>0.0</td>\n    </tr>\n    <tr>\n      <th>3</th>\n      <td>2</td>\n      <td>2022-01-01T00:25:21.000</td>\n      <td>2022-01-01T00:35:23.000</td>\n      <td>1.0</td>\n      <td>1.09</td>\n      <td>1.0</td>\n      <td>N</td>\n      <td>114</td>\n      <td>68</td>\n      <td>2</td>\n      <td>8.0</td>\n      <td>0.5</td>\n      <td>0.5</td>\n      <td>0.00</td>\n      <td>0.0</td>\n      <td>0.3</td>\n      <td>11.80</td>\n      <td>2.5</td>\n      <td>0.0</td>\n    </tr>\n    <tr>\n      <th>4</th>\n      <td>2</td>\n      <td>2022-01-01T00:36:48.000</td>\n      <td>2022-01-01T01:14:20.000</td>\n      <td>1.0</td>\n      <td>4.30</td>\n      <td>1.0</td>\n      <td>N</td>\n      <td>68</td>\n      <td>163</td>\n      <td>1</td>\n      <td>23.5</td>\n      <td>0.5</td>\n      <td>0.5</td>\n      <td>3.00</td>\n      <td>0.0</td>\n      <td>0.3</td>\n      <td>30.30</td>\n      <td>2.5</td>\n      <td>0.0</td>\n    </tr>\n  </tbody>\n</table>\n</div>"
     },
     "execution_count": 4,
     "metadata": {},
     "output_type": "execute_result"
    }
   ],
   "source": [
    "my_all_data_[9].head()"
   ],
   "metadata": {
    "collapsed": false,
    "ExecuteTime": {
     "end_time": "2024-03-13T02:26:06.409660Z",
     "start_time": "2024-03-13T02:26:06.392102Z"
    }
   },
   "id": "b48b2f0c67490528",
   "execution_count": 4
  },
  {
   "cell_type": "code",
   "outputs": [],
   "source": [
    "df = pd.concat(my_all_data_)"
   ],
   "metadata": {
    "collapsed": false,
    "ExecuteTime": {
     "end_time": "2024-03-13T02:26:13.493847Z",
     "start_time": "2024-03-13T02:26:13.043187Z"
    }
   },
   "id": "4ccf5e35096f10c5",
   "execution_count": 5
  },
  {
   "cell_type": "code",
   "outputs": [
    {
     "data": {
      "text/plain": "(5000000, 19)"
     },
     "execution_count": 6,
     "metadata": {},
     "output_type": "execute_result"
    }
   ],
   "source": [
    "df.shape"
   ],
   "metadata": {
    "collapsed": false,
    "ExecuteTime": {
     "end_time": "2024-03-13T02:26:14.810867Z",
     "start_time": "2024-03-13T02:26:14.806954Z"
    }
   },
   "id": "258741a460680b0f",
   "execution_count": 6
  },
  {
   "cell_type": "code",
   "outputs": [
    {
     "data": {
      "text/plain": "       vendorid     tpep_pickup_datetime    tpep_dropoff_datetime  \\\n49995         2  2022-01-01T19:14:47.000  2022-01-01T19:49:51.000   \n49996         2  2022-01-01T19:09:24.000  2022-01-01T19:13:37.000   \n49997         2  2022-01-01T19:57:43.000  2022-01-01T20:08:56.000   \n49998         2  2022-01-01T19:02:24.000  2022-01-01T19:05:39.000   \n49999         2  2022-01-01T19:22:29.000  2022-01-01T19:34:10.000   \n\n       passenger_count  trip_distance  ratecodeid store_and_fwd_flag  \\\n49995              1.0          17.48         2.0                  N   \n49996              1.0           0.77         1.0                  N   \n49997              1.0           3.07         1.0                  N   \n49998              3.0           0.86         1.0                  N   \n49999              2.0           2.22         1.0                  N   \n\n       pulocationid  dolocationid  payment_type  fare_amount  extra  mta_tax  \\\n49995            79           132             1         52.0    0.0      0.5   \n49996           161           164             1          4.5    0.0      0.5   \n49997            79           256             1         11.5    0.0      0.5   \n49998           170           164             2          4.5    0.0      0.5   \n49999           170           236             1         10.0    0.0      0.5   \n\n       tip_amount  tolls_amount  improvement_surcharge  total_amount  \\\n49995        1.00          6.55                    0.3         64.10   \n49996        1.95          0.00                    0.3          9.75   \n49997        2.96          0.00                    0.3         17.76   \n49998        0.00          0.00                    0.3          7.80   \n49999        3.32          0.00                    0.3         16.62   \n\n       congestion_surcharge  airport_fee  \n49995                   2.5         1.25  \n49996                   2.5         0.00  \n49997                   2.5         0.00  \n49998                   2.5         0.00  \n49999                   2.5         0.00  ",
      "text/html": "<div>\n<style scoped>\n    .dataframe tbody tr th:only-of-type {\n        vertical-align: middle;\n    }\n\n    .dataframe tbody tr th {\n        vertical-align: top;\n    }\n\n    .dataframe thead th {\n        text-align: right;\n    }\n</style>\n<table border=\"1\" class=\"dataframe\">\n  <thead>\n    <tr style=\"text-align: right;\">\n      <th></th>\n      <th>vendorid</th>\n      <th>tpep_pickup_datetime</th>\n      <th>tpep_dropoff_datetime</th>\n      <th>passenger_count</th>\n      <th>trip_distance</th>\n      <th>ratecodeid</th>\n      <th>store_and_fwd_flag</th>\n      <th>pulocationid</th>\n      <th>dolocationid</th>\n      <th>payment_type</th>\n      <th>fare_amount</th>\n      <th>extra</th>\n      <th>mta_tax</th>\n      <th>tip_amount</th>\n      <th>tolls_amount</th>\n      <th>improvement_surcharge</th>\n      <th>total_amount</th>\n      <th>congestion_surcharge</th>\n      <th>airport_fee</th>\n    </tr>\n  </thead>\n  <tbody>\n    <tr>\n      <th>49995</th>\n      <td>2</td>\n      <td>2022-01-01T19:14:47.000</td>\n      <td>2022-01-01T19:49:51.000</td>\n      <td>1.0</td>\n      <td>17.48</td>\n      <td>2.0</td>\n      <td>N</td>\n      <td>79</td>\n      <td>132</td>\n      <td>1</td>\n      <td>52.0</td>\n      <td>0.0</td>\n      <td>0.5</td>\n      <td>1.00</td>\n      <td>6.55</td>\n      <td>0.3</td>\n      <td>64.10</td>\n      <td>2.5</td>\n      <td>1.25</td>\n    </tr>\n    <tr>\n      <th>49996</th>\n      <td>2</td>\n      <td>2022-01-01T19:09:24.000</td>\n      <td>2022-01-01T19:13:37.000</td>\n      <td>1.0</td>\n      <td>0.77</td>\n      <td>1.0</td>\n      <td>N</td>\n      <td>161</td>\n      <td>164</td>\n      <td>1</td>\n      <td>4.5</td>\n      <td>0.0</td>\n      <td>0.5</td>\n      <td>1.95</td>\n      <td>0.00</td>\n      <td>0.3</td>\n      <td>9.75</td>\n      <td>2.5</td>\n      <td>0.00</td>\n    </tr>\n    <tr>\n      <th>49997</th>\n      <td>2</td>\n      <td>2022-01-01T19:57:43.000</td>\n      <td>2022-01-01T20:08:56.000</td>\n      <td>1.0</td>\n      <td>3.07</td>\n      <td>1.0</td>\n      <td>N</td>\n      <td>79</td>\n      <td>256</td>\n      <td>1</td>\n      <td>11.5</td>\n      <td>0.0</td>\n      <td>0.5</td>\n      <td>2.96</td>\n      <td>0.00</td>\n      <td>0.3</td>\n      <td>17.76</td>\n      <td>2.5</td>\n      <td>0.00</td>\n    </tr>\n    <tr>\n      <th>49998</th>\n      <td>2</td>\n      <td>2022-01-01T19:02:24.000</td>\n      <td>2022-01-01T19:05:39.000</td>\n      <td>3.0</td>\n      <td>0.86</td>\n      <td>1.0</td>\n      <td>N</td>\n      <td>170</td>\n      <td>164</td>\n      <td>2</td>\n      <td>4.5</td>\n      <td>0.0</td>\n      <td>0.5</td>\n      <td>0.00</td>\n      <td>0.00</td>\n      <td>0.3</td>\n      <td>7.80</td>\n      <td>2.5</td>\n      <td>0.00</td>\n    </tr>\n    <tr>\n      <th>49999</th>\n      <td>2</td>\n      <td>2022-01-01T19:22:29.000</td>\n      <td>2022-01-01T19:34:10.000</td>\n      <td>2.0</td>\n      <td>2.22</td>\n      <td>1.0</td>\n      <td>N</td>\n      <td>170</td>\n      <td>236</td>\n      <td>1</td>\n      <td>10.0</td>\n      <td>0.0</td>\n      <td>0.5</td>\n      <td>3.32</td>\n      <td>0.00</td>\n      <td>0.3</td>\n      <td>16.62</td>\n      <td>2.5</td>\n      <td>0.00</td>\n    </tr>\n  </tbody>\n</table>\n</div>"
     },
     "execution_count": 48,
     "metadata": {},
     "output_type": "execute_result"
    }
   ],
   "source": [
    "df.tail()"
   ],
   "metadata": {
    "collapsed": false,
    "ExecuteTime": {
     "end_time": "2024-03-11T21:29:25.824444Z",
     "start_time": "2024-03-11T21:29:25.813783Z"
    }
   },
   "id": "2f75eb0c6c32f593",
   "execution_count": 48
  },
  {
   "cell_type": "code",
   "outputs": [],
   "source": [],
   "metadata": {
    "collapsed": false
   },
   "id": "76d17254f4d46c4d"
  }
 ],
 "metadata": {
  "kernelspec": {
   "display_name": "Python 3",
   "language": "python",
   "name": "python3"
  },
  "language_info": {
   "codemirror_mode": {
    "name": "ipython",
    "version": 2
   },
   "file_extension": ".py",
   "mimetype": "text/x-python",
   "name": "python",
   "nbconvert_exporter": "python",
   "pygments_lexer": "ipython2",
   "version": "2.7.6"
  }
 },
 "nbformat": 4,
 "nbformat_minor": 5
}
